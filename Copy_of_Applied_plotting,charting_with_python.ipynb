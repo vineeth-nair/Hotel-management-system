{
  "nbformat": 4,
  "nbformat_minor": 0,
  "metadata": {
    "colab": {
      "name": "Copy of Applied plotting,charting with python.ipynb",
      "version": "0.3.2",
      "provenance": [],
      "collapsed_sections": [],
      "include_colab_link": true
    },
    "kernelspec": {
      "name": "python3",
      "display_name": "Python 3"
    }
  },
  "cells": [
    {
      "cell_type": "markdown",
      "metadata": {
        "id": "view-in-github",
        "colab_type": "text"
      },
      "source": [
        "<a href=\"https://colab.research.google.com/github/vineeth-nair/Hotel-management-system/blob/master/Copy_of_Applied_plotting%2Ccharting_with_python.ipynb\" target=\"_parent\"><img src=\"https://colab.research.google.com/assets/colab-badge.svg\" alt=\"Open In Colab\"/></a>"
      ]
    },
    {
      "metadata": {
        "id": "Wr-fa0RVouCc",
        "colab_type": "text"
      },
      "cell_type": "markdown",
      "source": [
        "This notebook is dedicated for **Applied visualizations** using python.\n",
        "Libraries used are **matplotlib** and **seaborn** .\n",
        "\n",
        "### installation\n",
        "pip install matplotlib\n",
        "\n",
        "pip install seaborn\n"
      ]
    },
    {
      "metadata": {
        "id": "n1pDvzJ2pvsc",
        "colab_type": "text"
      },
      "cell_type": "markdown",
      "source": [
        "**Loading Libraries**"
      ]
    },
    {
      "metadata": {
        "id": "GOCYG91xofNM",
        "colab_type": "code",
        "colab": {}
      },
      "cell_type": "code",
      "source": [
        "import matplotlib.pyplot as plt\n",
        "import seaborn as sns\n",
        "\n",
        "import pandas as pd\n",
        "import numpy as np"
      ],
      "execution_count": 0,
      "outputs": []
    },
    {
      "metadata": {
        "id": "9ILnYvWY5Sn-",
        "colab_type": "code",
        "colab": {}
      },
      "cell_type": "code",
      "source": [
        "%matplotlib inline"
      ],
      "execution_count": 0,
      "outputs": []
    },
    {
      "metadata": {
        "id": "1CkewCybqJS2",
        "colab_type": "text"
      },
      "cell_type": "markdown",
      "source": [
        "#### Start plotting...."
      ]
    },
    {
      "metadata": {
        "id": "OGjawIVvqckW",
        "colab_type": "text"
      },
      "cell_type": "markdown",
      "source": [
        "*   Line plots\n"
      ]
    },
    {
      "metadata": {
        "id": "oaZ7s8Ybp7FH",
        "colab_type": "code",
        "colab": {
          "base_uri": "https://localhost:8080/",
          "height": 347
        },
        "outputId": "600c6829-2bf2-43b6-ced9-d9ac91ba1a2e"
      },
      "cell_type": "code",
      "source": [
        "x=np.linspace(1,10,10)\n",
        "y=x\n",
        "plt.figure()\n",
        "plt.plot(x,y)\n",
        "plt.show()"
      ],
      "execution_count": 2,
      "outputs": [
        {
          "output_type": "display_data",
          "data": {
            "image/png": "[encoded data removed]",
            "text/plain": [
              "<Figure size 576x396 with 1 Axes>"
            ]
          },
          "metadata": {
            "tags": []
          }
        }
      ]
    },
    {
      "metadata": {
        "id": "dwosgkASrRNU",
        "colab_type": "text"
      },
      "cell_type": "markdown",
      "source": [
        "* adding x and y labels in your plot "
      ]
    },
    {
      "metadata": {
        "id": "Xcw6j_E2qx1i",
        "colab_type": "code",
        "colab": {
          "base_uri": "https://localhost:8080/",
          "height": 395
        },
        "outputId": "c15cd9e3-31fc-4b7f-8eef-ae9cda5da6c3"
      },
      "cell_type": "code",
      "source": [
        "x=np.linspace(1,10,10)   ##generate 10 numbers b/w 1-10\n",
        "y=x\n",
        "plt.figure()\n",
        "plt.plot(x,y,color='red',alpha=.8)  ##add color and intensity\n",
        "plt.xlabel(\"axis\")\n",
        "plt.ylabel(\"y axis\")\n",
        "plt.title(\"Title\")\n",
        "plt.legend()      ##adding a legend\n",
        "plt.show()"
      ],
      "execution_count": 14,
      "outputs": [
        {
          "output_type": "stream",
          "text": [
            "No handles with labels found to put in legend.\n"
          ],
          "name": "stderr"
        },
        {
          "output_type": "display_data",
          "data": {
            "image/png": "[encoded data removed]",
            "text/plain": [
              "<Figure size 576x396 with 1 Axes>"
            ]
          },
          "metadata": {
            "tags": []
          }
        }
      ]
    },
    {
      "metadata": {
        "id": "1-_XC_9csgFM",
        "colab_type": "text"
      },
      "cell_type": "markdown",
      "source": [
        "* Plotting multile lines in same figure"
      ]
    },
    {
      "metadata": {
        "id": "p1jUbyiUqyqp",
        "colab_type": "code",
        "colab": {
          "base_uri": "https://localhost:8080/",
          "height": 376
        },
        "outputId": "cf23e409-b159-4c40-fdca-97faa454e72e"
      },
      "cell_type": "code",
      "source": [
        "x=np.linspace(1,10,10)\n",
        "y=x\n",
        "plt.figure()\n",
        "plt.plot(x,y,label=\"y=x\")##setting the label parameter\n",
        "plt.plot(x,y,color='yellow')\n",
        "plt.plot(x,y**2,label=\"y=x**2\")\n",
        "plt.xlabel(\"x axis\")\n",
        "plt.ylabel(\"y axis\")\n",
        "plt.title(\"Really\")\n",
        "\n",
        "plt.show()"
      ],
      "execution_count": 10,
      "outputs": [
        {
          "output_type": "display_data",
          "data": {
            "image/png": "[encoded data removed]",
            "text/plain": [
              "<Figure size 576x396 with 1 Axes>"
            ]
          },
          "metadata": {
            "tags": []
          }
        }
      ]
    },
    {
      "metadata": {
        "id": "jno3jl92v1Wd",
        "colab_type": "text"
      },
      "cell_type": "markdown",
      "source": [
        "* Scatter plots"
      ]
    },
    {
      "metadata": {
        "id": "edKp15_ss7iQ",
        "colab_type": "code",
        "colab": {
          "base_uri": "https://localhost:8080/",
          "height": 361
        },
        "outputId": "c6445503-0414-4ebd-b8de-74b6ba8c5f38"
      },
      "cell_type": "code",
      "source": [
        "plt.figure()\n",
        "x=np.arange(1,10,1)  ## to get number b/w 1-10 with difference of 1\n",
        "y=x**3\n",
        "plt.scatter(x,y)  #create scatter plot\n",
        "plt.xlabel(\"x\")\n",
        "plt.ylabel(\"x^3\")\n",
        "plt.show()"
      ],
      "execution_count": 15,
      "outputs": [
        {
          "output_type": "display_data",
          "data": {
            "image/png": "[encoded data removed]",
            "text/plain": [
              "<Figure size 576x396 with 1 Axes>"
            ]
          },
          "metadata": {
            "tags": []
          }
        }
      ]
    },
    {
      "metadata": {
        "id": "8tFoIJR_xco1",
        "colab_type": "text"
      },
      "cell_type": "markdown",
      "source": [
        "* Bar graphs"
      ]
    },
    {
      "metadata": {
        "id": "4aiAUWq-xBCO",
        "colab_type": "code",
        "colab": {
          "base_uri": "https://localhost:8080/",
          "height": 347
        },
        "outputId": "acee7f01-3606-4bdc-d882-235a81d90e8b"
      },
      "cell_type": "code",
      "source": [
        "height=np.arange(10,100,20)\n",
        "x=np.arange(1,10,2)\n",
        "plt.bar(x,height)\n",
        "\n",
        "plt.show()"
      ],
      "execution_count": 23,
      "outputs": [
        {
          "output_type": "display_data",
          "data": {
            "image/png": "[encoded data removed]",
            "text/plain": [
              "<Figure size 576x396 with 1 Axes>"
            ]
          },
          "metadata": {
            "tags": []
          }
        }
      ]
    },
    {
      "metadata": {
        "id": "vWTIfy1Kzo2K",
        "colab_type": "text"
      },
      "cell_type": "markdown",
      "source": [
        "Now just think of a situation where you are going to represent days in a week as your x axis.\n",
        "let us see how to do that.."
      ]
    },
    {
      "metadata": {
        "id": "BF5YYSX3zB-r",
        "colab_type": "code",
        "colab": {
          "base_uri": "https://localhost:8080/",
          "height": 347
        },
        "outputId": "a50c188c-b507-46a7-e2d5-15079b35b73e"
      },
      "cell_type": "code",
      "source": [
        "height=np.arange(10,80,10)\n",
        "x=np.arange(1,8,1)\n",
        "plt.bar(x,height)\n",
        "plt.gca().set_xticks(x)   ##setting xticks location\n",
        "plt.gca().set_xticklabels(['day1','day2','day3','day4','day5','day6','day7']) ##setting xtick labels\n",
        "plt.show()"
      ],
      "execution_count": 24,
      "outputs": [
        {
          "output_type": "display_data",
          "data": {
            "image/png": "[encoded data removed]",
            "text/plain": [
              "<Figure size 576x396 with 1 Axes>"
            ]
          },
          "metadata": {
            "tags": []
          }
        }
      ]
    },
    {
      "metadata": {
        "id": "cFGGm4yAVrSG",
        "colab_type": "code",
        "colab": {
          "base_uri": "https://localhost:8080/",
          "height": 171
        },
        "outputId": "c570390d-cfc1-4842-ff71-599a690b25d0"
      },
      "cell_type": "code",
      "source": [
        "var"
      ],
      "execution_count": 25,
      "outputs": [
        {
          "output_type": "error",
          "ename": "NameError",
          "evalue": "ignored",
          "traceback": [
            "\u001b[0;31m---------------------------------------------------------------------------\u001b[0m",
            "\u001b[0;31mNameError\u001b[0m                                 Traceback (most recent call last)",
            "\u001b[0;32m<ipython-input-25-84ddba356ca3>\u001b[0m in \u001b[0;36m<module>\u001b[0;34m()\u001b[0m\n\u001b[0;32m----> 1\u001b[0;31m \u001b[0mvar\u001b[0m\u001b[0;34m\u001b[0m\u001b[0;34m\u001b[0m\u001b[0m\n\u001b[0m",
            "\u001b[0;31mNameError\u001b[0m: name 'var' is not defined"
          ]
        }
      ]
    },
    {
      "metadata": {
        "id": "QLTF3sA71hgS",
        "colab_type": "text"
      },
      "cell_type": "markdown",
      "source": [
        "* Visualizing a continues variable"
      ]
    },
    {
      "metadata": {
        "id": "bLa8axQ33fut",
        "colab_type": "text"
      },
      "cell_type": "markdown",
      "source": [
        "* histogram"
      ]
    },
    {
      "metadata": {
        "id": "7QHCYaGq0RJk",
        "colab_type": "code",
        "colab": {
          "base_uri": "https://localhost:8080/",
          "height": 349
        },
        "outputId": "70f20f4a-bbc3-468a-959c-bd531eec2e11"
      },
      "cell_type": "code",
      "source": [
        "var=np.random.rand(200)\n",
        "plt.hist(var,bins=5)\n",
        "plt.show()"
      ],
      "execution_count": 33,
      "outputs": [
        {
          "output_type": "display_data",
          "data": {
            "image/png": "[encoded data removed]",
            "text/plain": [
              "<Figure size 576x396 with 1 Axes>"
            ]
          },
          "metadata": {
            "tags": []
          }
        }
      ]
    },
    {
      "metadata": {
        "id": "Z2nI3CGMVvT8",
        "colab_type": "code",
        "colab": {
          "base_uri": "https://localhost:8080/",
          "height": 199
        },
        "outputId": "6d427c21-7b42-4e73-e2b5-df78c4a58ef8"
      },
      "cell_type": "code",
      "source": [
        "var[(var>0.4) & (var<0.6)]"
      ],
      "execution_count": 34,
      "outputs": [
        {
          "output_type": "execute_result",
          "data": {
            "text/plain": [
              "array([0.49920617, 0.58529109, 0.4808034 , 0.57003238, 0.47639014,\n",
              "       0.44073694, 0.53863987, 0.56165784, 0.47365201, 0.57131768,\n",
              "       0.4910105 , 0.4976107 , 0.41040928, 0.44299422, 0.5693038 ,\n",
              "       0.51737813, 0.59525447, 0.42093194, 0.58985257, 0.55096876,\n",
              "       0.57770456, 0.53613766, 0.56385185, 0.44422929, 0.50430562,\n",
              "       0.43577652, 0.45359739, 0.45587027, 0.59244035, 0.46014976,\n",
              "       0.5570196 , 0.5257919 , 0.44375466, 0.40508107, 0.43701006,\n",
              "       0.45748836, 0.45445169, 0.55704385, 0.50424307, 0.51928521,\n",
              "       0.42900066, 0.46311312, 0.53169455, 0.48859429, 0.50056569,\n",
              "       0.55089863, 0.58523713, 0.40127285])"
            ]
          },
          "metadata": {
            "tags": []
          },
          "execution_count": 34
        }
      ]
    },
    {
      "metadata": {
        "id": "aIYSvrZt3aUa",
        "colab_type": "text"
      },
      "cell_type": "markdown",
      "source": [
        "* Boxplot"
      ]
    },
    {
      "metadata": {
        "id": "l4nDcURl1z2K",
        "colab_type": "code",
        "colab": {
          "base_uri": "https://localhost:8080/",
          "height": 347
        },
        "outputId": "69baaffe-c951-4b5c-84b1-b017476b1dea"
      },
      "cell_type": "code",
      "source": [
        "plt.figure()\n",
        "plt.boxplot(var)\n",
        "plt.show()"
      ],
      "execution_count": 35,
      "outputs": [
        {
          "output_type": "display_data",
          "data": {
            "image/png": "[encoded data removed]",
            "text/plain": [
              "<Figure size 576x396 with 1 Axes>"
            ]
          },
          "metadata": {
            "tags": []
          }
        }
      ]
    },
    {
      "metadata": {
        "id": "V2Ap9VoB4IRY",
        "colab_type": "text"
      },
      "cell_type": "markdown",
      "source": [
        "![**How to read a boxplot**](https://www.wellbeingatschool.org.nz/sites/default/files/W@S_boxplot-labels.png)"
      ]
    },
    {
      "metadata": {
        "id": "0hJ5UXXGHnhq",
        "colab_type": "text"
      },
      "cell_type": "markdown",
      "source": [
        "* Subplots"
      ]
    },
    {
      "metadata": {
        "id": "X-H9X_XSHlUv",
        "colab_type": "code",
        "colab": {
          "base_uri": "https://localhost:8080/",
          "height": 363
        },
        "outputId": "63d00a2f-64f1-42fd-c2f8-22c65cfed7a4"
      },
      "cell_type": "code",
      "source": [
        "# Compute the x and y coordinates for points on sine and cosine curves\n",
        "x = np.arange(0, 3 * np.pi, 0.1)\n",
        "y_sin = np.sin(x)\n",
        "y_cos = np.cos(x)\n",
        "\n",
        "# Set up a subplot grid that has height 2 and width 1,\n",
        "# and set the first such subplot as active.\n",
        "plt.subplot(2, 1, 1)\n",
        "\n",
        "# Make the first plot\n",
        "plt.plot(x, y_sin)\n",
        "plt.title('Sine')\n",
        "\n",
        "# Set the second subplot as active, and make the second plot.\n",
        "plt.subplot(2, 1, 2)\n",
        "plt.plot(x, y_cos)\n",
        "plt.title('Cosine')\n",
        "\n",
        "\n",
        "# Show the figure.\n",
        "plt.show()"
      ],
      "execution_count": 39,
      "outputs": [
        {
          "output_type": "display_data",
          "data": {
            "image/png": "[encoded data removed]",
            "text/plain": [
              "<Figure size 576x396 with 2 Axes>"
            ]
          },
          "metadata": {
            "tags": []
          }
        }
      ]
    },
    {
      "metadata": {
        "id": "qgC4VownYngs",
        "colab_type": "code",
        "colab": {}
      },
      "cell_type": "code",
      "source": [
        "x = np.arange(0, 3 * np.pi, 0.1)\n",
        "y_sin = np.sin(x)\n",
        "y_cos = np.cos(x)\n"
      ],
      "execution_count": 0,
      "outputs": []
    },
    {
      "metadata": {
        "id": "L1f87Uja62qL",
        "colab_type": "text"
      },
      "cell_type": "markdown",
      "source": [
        "[*Want to know more about matplotlib ? click here !*](https://www.google.com/url?sa=t&rct=j&q=&esrc=s&source=web&cd=1&cad=rja&uact=8&ved=2ahUKEwjSid2H9c_gAhWKWX0KHSeBChgQFjAAegQICxAB&url=https%3A%2F%2Fmatplotlib.org%2F&usg=AOvVaw0YgZr7XYZzco6IDaGIE2sw)"
      ]
    },
    {
      "metadata": {
        "id": "P4pnJWMi9Wvi",
        "colab_type": "text"
      },
      "cell_type": "markdown",
      "source": [
        "* Pie charts"
      ]
    },
    {
      "metadata": {
        "id": "udgaRp2S9UiA",
        "colab_type": "code",
        "colab": {
          "base_uri": "https://localhost:8080/",
          "height": 336
        },
        "outputId": "8416b2c4-a126-4334-9c51-c5876b5e7f04"
      },
      "cell_type": "code",
      "source": [
        "# Data to plot\n",
        "labels = 'Python', 'C++', 'Ruby', 'Java'\n",
        "sizes = [215, 130, 245, 210]\n",
        "colors = ['gold', 'yellowgreen', 'lightcoral', 'lightskyblue']\n",
        "explode = (0.1, 0.1, 0, 0)  # explode 1st slice\n",
        " \n",
        "# Plot\n",
        "plt.pie(sizes, explode=explode, labels=labels, colors=colors,\n",
        "autopct='%1.1f%%', shadow=True, startangle=140)\n",
        " \n",
        "plt.axis('equal')\n",
        "plt.show()"
      ],
      "execution_count": 44,
      "outputs": [
        {
          "output_type": "display_data",
          "data": {
            "image/png": "[encoded data removed]",
            "text/plain": [
              "<Figure size 576x396 with 1 Axes>"
            ]
          },
          "metadata": {
            "tags": []
          }
        }
      ]
    },
    {
      "metadata": {
        "id": "fxwWqRvu4gGg",
        "colab_type": "text"
      },
      "cell_type": "markdown",
      "source": [
        "### How to draw more better attractive looking plots ?"
      ]
    },
    {
      "metadata": {
        "id": "qUYAc_K74sv1",
        "colab_type": "text"
      },
      "cell_type": "markdown",
      "source": [
        "* Seaborn "
      ]
    },
    {
      "metadata": {
        "id": "zky1AvZz3XZr",
        "colab_type": "code",
        "colab": {}
      },
      "cell_type": "code",
      "source": [
        "height=np.arange(10,80,10)\n",
        "x=np.arange(1,8,1)\n",
        "sns.barplot(x,height)\n",
        "#plt.gca().set_xticks(x)   ##setting xticks location\n",
        "plt.gca().set_xticklabels(['day1','day2','day3','day4','day5','day6','day7']) ##setting xtick labels\n",
        "plt.show()"
      ],
      "execution_count": 0,
      "outputs": []
    },
    {
      "metadata": {
        "id": "nAzEpYwx5_eq",
        "colab_type": "text"
      },
      "cell_type": "markdown",
      "source": [
        "* Boxplot "
      ]
    },
    {
      "metadata": {
        "id": "9lhU6EFG5CmV",
        "colab_type": "code",
        "outputId": "dfe30524-fdf7-4d05-d914-19139dffaaa3",
        "colab": {
          "base_uri": "https://localhost:8080/",
          "height": 206
        }
      },
      "cell_type": "code",
      "source": [
        "tips=sns.load_dataset(\"tips\")  ##loading inbuilt dataset from seaborn\n",
        "tips.head()"
      ],
      "execution_count": 0,
      "outputs": [
        {
          "output_type": "execute_result",
          "data": {
            "text/html": [
              "<div>\n",
              "<style scoped>\n",
              "    .dataframe tbody tr th:only-of-type {\n",
              "        vertical-align: middle;\n",
              "    }\n",
              "\n",
              "    .dataframe tbody tr th {\n",
              "        vertical-align: top;\n",
              "    }\n",
              "\n",
              "    .dataframe thead th {\n",
              "        text-align: right;\n",
              "    }\n",
              "</style>\n",
              "<table border=\"1\" class=\"dataframe\">\n",
              "  <thead>\n",
              "    <tr style=\"text-align: right;\">\n",
              "      <th></th>\n",
              "      <th>total_bill</th>\n",
              "      <th>tip</th>\n",
              "      <th>sex</th>\n",
              "      <th>smoker</th>\n",
              "      <th>day</th>\n",
              "      <th>time</th>\n",
              "      <th>size</th>\n",
              "    </tr>\n",
              "  </thead>\n",
              "  <tbody>\n",
              "    <tr>\n",
              "      <th>0</th>\n",
              "      <td>16.99</td>\n",
              "      <td>1.01</td>\n",
              "      <td>Female</td>\n",
              "      <td>No</td>\n",
              "      <td>Sun</td>\n",
              "      <td>Dinner</td>\n",
              "      <td>2</td>\n",
              "    </tr>\n",
              "    <tr>\n",
              "      <th>1</th>\n",
              "      <td>10.34</td>\n",
              "      <td>1.66</td>\n",
              "      <td>Male</td>\n",
              "      <td>No</td>\n",
              "      <td>Sun</td>\n",
              "      <td>Dinner</td>\n",
              "      <td>3</td>\n",
              "    </tr>\n",
              "    <tr>\n",
              "      <th>2</th>\n",
              "      <td>21.01</td>\n",
              "      <td>3.50</td>\n",
              "      <td>Male</td>\n",
              "      <td>No</td>\n",
              "      <td>Sun</td>\n",
              "      <td>Dinner</td>\n",
              "      <td>3</td>\n",
              "    </tr>\n",
              "    <tr>\n",
              "      <th>3</th>\n",
              "      <td>23.68</td>\n",
              "      <td>3.31</td>\n",
              "      <td>Male</td>\n",
              "      <td>No</td>\n",
              "      <td>Sun</td>\n",
              "      <td>Dinner</td>\n",
              "      <td>2</td>\n",
              "    </tr>\n",
              "    <tr>\n",
              "      <th>4</th>\n",
              "      <td>24.59</td>\n",
              "      <td>3.61</td>\n",
              "      <td>Female</td>\n",
              "      <td>No</td>\n",
              "      <td>Sun</td>\n",
              "      <td>Dinner</td>\n",
              "      <td>4</td>\n",
              "    </tr>\n",
              "  </tbody>\n",
              "</table>\n",
              "</div>"
            ],
            "text/plain": [
              "   total_bill   tip     sex smoker  day    time  size\n",
              "0       16.99  1.01  Female     No  Sun  Dinner     2\n",
              "1       10.34  1.66    Male     No  Sun  Dinner     3\n",
              "2       21.01  3.50    Male     No  Sun  Dinner     3\n",
              "3       23.68  3.31    Male     No  Sun  Dinner     2\n",
              "4       24.59  3.61  Female     No  Sun  Dinner     4"
            ]
          },
          "metadata": {
            "tags": []
          },
          "execution_count": 55
        }
      ]
    },
    {
      "metadata": {
        "id": "p2u9zYiu6I0J",
        "colab_type": "code",
        "colab": {}
      },
      "cell_type": "code",
      "source": [
        "sns.boxplot(x='sex',y='total_bill',data=tips)\n",
        "plt.show()"
      ],
      "execution_count": 0,
      "outputs": []
    },
    {
      "metadata": {
        "id": "bzr3IwzV7PS9",
        "colab_type": "text"
      },
      "cell_type": "markdown",
      "source": [
        " [*want to know more about seaborn ?click here*](https://www.google.com/url?sa=t&rct=j&q=&esrc=s&source=web&cd=1&cad=rja&uact=8&ved=2ahUKEwiAlICv9M_gAhWOTX0KHae2CFAQFjAAegQIAhAC&url=https%3A%2F%2Fseaborn.pydata.org%2F&usg=AOvVaw0GhFbgBpk8OwHfgpvMyxJm)"
      ]
    },
    {
      "metadata": {
        "id": "DD-h9eTd7j1Z",
        "colab_type": "text"
      },
      "cell_type": "markdown",
      "source": [
        "Now i will show you some of my plots using **plotly** ,an advanced plotting api available in python"
      ]
    },
    {
      "metadata": {
        "id": "4TNcT9b88tX5",
        "colab_type": "text"
      },
      "cell_type": "markdown",
      "source": [
        "[Costa reca poverty prediction EDTA](https://www.kaggle.com/shahules/costa-reca-poverty-prediction)"
      ]
    },
    {
      "metadata": {
        "id": "5lA6NNyY87mv",
        "colab_type": "text"
      },
      "cell_type": "markdown",
      "source": [
        "[learn plotly](https://plot.ly)"
      ]
    },
    {
      "metadata": {
        "id": "5RxTMsCl_ppL",
        "colab_type": "text"
      },
      "cell_type": "markdown",
      "source": [
        "*written by Shahul Es*\n"
      ]
    },
    {
      "metadata": {
        "id": "OZSi2S_r6NNf",
        "colab_type": "code",
        "colab": {}
      },
      "cell_type": "code",
      "source": [
        ""
      ],
      "execution_count": 0,
      "outputs": []
    },
    {
      "metadata": {
        "id": "W8z7GyAf7mKa",
        "colab_type": "code",
        "colab": {}
      },
      "cell_type": "code",
      "source": [
        ""
      ],
      "execution_count": 0,
      "outputs": []
    }
  ]
}